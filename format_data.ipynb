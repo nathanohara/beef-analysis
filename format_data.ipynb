{
 "cells": [
  {
   "cell_type": "markdown",
   "metadata": {},
   "source": [
    "# Data Cleaning and Formatting\n",
    "This code reads the original data files, generates demand variables, and exports the relevant VAR system variables as a CSV called \"beefdemand.csv\" in the data folder."
   ]
  },
  {
   "cell_type": "code",
   "execution_count": 1,
   "metadata": {
    "collapsed": true
   },
   "outputs": [],
   "source": [
    "import pandas as pd\n",
    "import numpy as np\n",
    "from os import listdir, chdir\n",
    "import matplotlib.pyplot as plt\n",
    "import datetime\n",
    "%matplotlib inline\n",
    "chdir(\"./data\")\n"
   ]
  },
  {
   "cell_type": "code",
   "execution_count": 2,
   "metadata": {
    "collapsed": true
   },
   "outputs": [],
   "source": [
    "dfs = {}\n",
    "def get_date(x):\n",
    "    return datetime.datetime.strptime(str(x.Year)+\" \"+str(x.variable), \"%Y %b\")\n",
    "\n",
    "# Generate dataframes for each food price time series.\n",
    "for file in listdir():\n",
    "    if file not in [\"slaughter_counts_historical.xlsx\", \"cpi_allcon_foodbev.csv\", \"wages_monthly.csv\",\"wages_yearly.csv\"]:\n",
    "        dfs[file[:-5]] = pd.read_excel(file, header = 9).melt(id_vars = [\"Year\"])\n",
    "        dfs[file[:-5]][\"date\"] = dfs[file[:-5]].apply(lambda x: get_date(x), axis =1)#.sort_values(by = [\"date\"])\n",
    "        dfs[file[:-5]].sort_values(by = [\"date\"], inplace = True)"
   ]
  },
  {
   "cell_type": "code",
   "execution_count": 4,
   "metadata": {
    "collapsed": true
   },
   "outputs": [],
   "source": [
    "# Generate slaughter counts dataframe\n",
    "response = pd.read_excel(\"slaughter_counts_historical.xlsx\", header = 2).reset_index()\n",
    "response.drop([0,1, 915, 916, 917], axis = 0, inplace = True)\n",
    "response.reset_index(drop = True, inplace = True)\n",
    "response = response[[\"index\", \"Cattle\"]]\n",
    "response.columns = [\"date\", \"cattle\"]\n",
    "response[\"date\"] = response[\"date\"].apply(lambda x: datetime.datetime.strptime(x, \"%b-%Y\"))\n",
    "response.sort_values(by = [\"date\"], inplace = True)"
   ]
  },
  {
   "cell_type": "code",
   "execution_count": 6,
   "metadata": {
    "collapsed": true
   },
   "outputs": [],
   "source": [
    "# Load in CPI data\n",
    "cpi = pd.read_csv(\"cpi_allcon_foodbev.csv\")\n",
    "cpi[\"DATE\"] = cpi[\"DATE\"].apply(lambda x: datetime.datetime.strptime(x, \"%Y-%m-%d\"))\n",
    "cpi.columns = [\"date\",\"cpi\"]"
   ]
  },
  {
   "cell_type": "code",
   "execution_count": 16,
   "metadata": {
    "collapsed": true
   },
   "outputs": [],
   "source": [
    "# Get inflation adjusted price values\n",
    "# Modify cut dataframes to only have date, price value, and inflation adjusted price value.\n",
    "for cut in dfs.keys():\n",
    "    dfs[cut] = pd.merge(dfs[cut], cpi)\n",
    "    dfs[cut][\"inf_adj\"] = dfs[cut].apply(lambda x: (x.value/x.cpi)*100, axis = 1)\n",
    "    dfs[cut] = dfs[cut][[\"date\",\"value\",\"inf_adj\"]]"
   ]
  },
  {
   "cell_type": "code",
   "execution_count": 22,
   "metadata": {
    "collapsed": true
   },
   "outputs": [],
   "source": [
    "# Generate demand variable for each cut\n",
    "from sklearn.linear_model import LinearRegression\n",
    "linreg = LinearRegression()\n",
    "\n",
    "for cut in dfs.keys():\n",
    "    dfs[cut] = pd.merge(dfs[cut], response, on = [\"date\"]).dropna()\n",
    "    linreg.fit(np.stack(dfs[cut][\"cattle\"].apply(lambda x: [x])), np.array(dfs[cut][\"inf_adj\"]))\n",
    "    preds = linreg.predict(np.stack(dfs[cut][\"cattle\"].apply(lambda x: [x])))\n",
    "    resids = dfs[cut][\"inf_adj\"] - preds\n",
    "    dfs[cut][\"demand\"] = resids\n"
   ]
  },
  {
   "cell_type": "code",
   "execution_count": 39,
   "metadata": {
    "collapsed": true
   },
   "outputs": [],
   "source": [
    "from functools import reduce\n",
    "\n",
    "dfs_for_export = [\"all_uncooked_beef_roasts\", \"all_uncooked_beef_steaks\", \"all_uncooked_ground_beef\", \"all_uncooked_other_beef\"]\n",
    "\n",
    "for df in dfs_for_export:\n",
    "    dfs[df].rename(columns = {\"demand\" : \"demand\"+df}, inplace = True)\n",
    "    \n",
    "dfs_for_export = [dfs[\"all_uncooked_beef_roasts\"], dfs[\"all_uncooked_beef_steaks\"], dfs[\"all_uncooked_ground_beef\"], dfs[\"all_uncooked_other_beef\"]]\n",
    "\n",
    "\n",
    "df_for_export = reduce(lambda left, right: pd.merge(left, right, on = [\"date\"]), dfs_for_export)"
   ]
  },
  {
   "cell_type": "code",
   "execution_count": 41,
   "metadata": {
    "collapsed": true
   },
   "outputs": [],
   "source": [
    "df_for_export = df_for_export[[\"date\",\"demandall_uncooked_beef_roasts\",\"demandall_uncooked_beef_steaks\",\"demandall_uncooked_ground_beef\",\"demandall_uncooked_other_beef\",\"date\",\"cattle_x\"]]"
   ]
  },
  {
   "cell_type": "code",
   "execution_count": 44,
   "metadata": {
    "collapsed": true
   },
   "outputs": [],
   "source": [
    "df_for_export = df_for_export.loc[:,~df_for_export.columns.duplicated()]\n"
   ]
  },
  {
   "cell_type": "code",
   "execution_count": 47,
   "metadata": {},
   "outputs": [
    {
     "name": "stderr",
     "output_type": "stream",
     "text": [
      "C:\\Users\\natha\\Anaconda3\\lib\\site-packages\\pandas\\core\\frame.py:2844: SettingWithCopyWarning: \n",
      "A value is trying to be set on a copy of a slice from a DataFrame\n",
      "\n",
      "See the caveats in the documentation: http://pandas.pydata.org/pandas-docs/stable/indexing.html#indexing-view-versus-copy\n",
      "  **kwargs)\n"
     ]
    }
   ],
   "source": [
    "df_for_export.rename(columns = {\"cattle_x\":\"cattle\"}, inplace = True)"
   ]
  },
  {
   "cell_type": "code",
   "execution_count": 49,
   "metadata": {
    "collapsed": true
   },
   "outputs": [],
   "source": [
    "df_for_export.to_csv(\"beefdemand.csv\", header = True, index = False)"
   ]
  }
 ],
 "metadata": {
  "kernelspec": {
   "display_name": "Python 3",
   "language": "python",
   "name": "python3"
  },
  "language_info": {
   "codemirror_mode": {
    "name": "ipython",
    "version": 3
   },
   "file_extension": ".py",
   "mimetype": "text/x-python",
   "name": "python",
   "nbconvert_exporter": "python",
   "pygments_lexer": "ipython3",
   "version": "3.6.1"
  }
 },
 "nbformat": 4,
 "nbformat_minor": 2
}
